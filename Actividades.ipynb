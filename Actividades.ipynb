{
  "nbformat": 4,
  "nbformat_minor": 0,
  "metadata": {
    "colab": {
      "provenance": []
    },
    "kernelspec": {
      "name": "python3",
      "display_name": "Python 3"
    },
    "language_info": {
      "name": "python"
    }
  },
  "cells": [
    {
      "cell_type": "markdown",
      "source": [
        "**Actividad: Empresa**\n",
        "\n",
        "El empleado tiene un nombre, un apellido, un género (masculino o femenino) y la edad. Además, tiene una cantidad de años trabajados en la empresa   y un salario básico asignado.\n",
        "Desde el programa se debe poder realizar las siguientes operaciones y se debe poner acceder a las mismas mediante un mismo menú de opciones.\n",
        "\n",
        "*   calcular la cantidad de empleados\n",
        "*   calcular la cantidad de empleados por género\n",
        "*   calcular la cantidad de años que le falta a cada empleado para jubilarse (convención: se jubilan a los 60 años ambos géneros).\n",
        "*   (4) calcular el monto que paga en concepto de sueldos la empresa, teniendo en cuenta a todos los empleados.\n",
        "*   (5) permitir la consulta por empleado, ingresando el apellido, en pantalla debe mostrar los datos personales mencionados en el enunciado, sueldo, en qué año calendario se jubilará.\n"
      ],
      "metadata": {
        "id": "cGhwWvoR_1J9"
      }
    },
    {
      "cell_type": "code",
      "source": [
        "class Empleado:\n",
        "    def __init__(self, nombre, apellido, genero, edad, anos_trabajados, salario_basico):\n",
        "        self.nombre = nombre\n",
        "        self.apellido = apellido\n",
        "        self.genero = genero\n",
        "        self.edad = edad\n",
        "        self.anos_trabajados = anos_trabajados\n",
        "        self.salario_basico = salario_basico\n",
        "\n",
        "    def anios_para_jubilarse(self):\n",
        "        jubilacion_edad = 60\n",
        "        return jubilacion_edad - self.edad\n",
        "\n",
        "    def calcular_sueldo_total(self):\n",
        "        return self.salario_basico\n",
        "\n",
        "# Lista para almacenar empleados\n",
        "empleados = []\n",
        "\n",
        "def calcular_cantidad_empleados():\n",
        "    return len(empleados)\n",
        "\n",
        "def calcular_cantidad_empleados_por_genero(genero):\n",
        "    return sum(1 for empleado in empleados if empleado.genero == genero)\n",
        "\n",
        "def calcular_monto_total_sueldos():\n",
        "    return sum(empleado.calcular_sueldo_total() for empleado in empleados)\n",
        "\n",
        "def consulta_por_apellido(apellido):\n",
        "    for empleado in empleados:\n",
        "        if empleado.apellido == apellido:\n",
        "            return empleado\n",
        "    return None\n",
        "\n",
        "# Menú principal\n",
        "while True:\n",
        "    print(\"\\nMenú de opciones:\")\n",
        "    print(\"1. Calcular cantidad de empleados\")\n",
        "    print(\"2. Calcular cantidad de empleados por género\")\n",
        "    print(\"3. Calcular años para jubilarse de cada empleado\")\n",
        "    print(\"4. Calcular monto total de sueldos de la empresa\")\n",
        "    print(\"5. Consulta por empleado\")\n",
        "    print(\"6. Salir\")\n",
        "\n",
        "    opcion = int(input(\"Ingrese el número de la opción deseada: \"))\n",
        "\n",
        "    if opcion == 1:\n",
        "        print(f\"Cantidad de empleados: {calcular_cantidad_empleados()}\")\n",
        "    elif opcion == 2:\n",
        "        genero = input(\"Ingrese el género (masculino/femenino): \").lower()\n",
        "        print(f\"Cantidad de empleados {genero}: {calcular_cantidad_empleados_por_genero(genero)}\")\n",
        "    elif opcion == 3:\n",
        "        for empleado in empleados:\n",
        "            anios_para_jubilarse = empleado.anios_para_jubilarse()\n",
        "            print(f\"{empleado.nombre} {empleado.apellido}: {anios_para_jubilarse} años para jubilarse\")\n",
        "    elif opcion == 4:\n",
        "        print(f\"Monto total de sueldos de la empresa: ${calcular_monto_total_sueldos()}\")\n",
        "    elif opcion == 5:\n",
        "        apellido_consulta = input(\"Ingrese el apellido del empleado: \")\n",
        "        empleado_consulta = consulta_por_apellido(apellido_consulta)\n",
        "        if empleado_consulta:\n",
        "            print(f\"Datos del empleado:\")\n",
        "            print(f\"Nombre: {empleado_consulta.nombre}\")\n",
        "            print(f\"Apellido: {empleado_consulta.apellido}\")\n",
        "            print(f\"Género: {empleado_consulta.genero}\")\n",
        "            print(f\"Edad: {empleado_consulta.edad} años\")\n",
        "            print(f\"Años trabajados: {empleado_consulta.anos_trabajados}\")\n",
        "            print(f\"Salario básico: ${empleado_consulta.salario_basico}\")\n",
        "            print(f\"Años para jubilarse: {empleado_consulta.anios_para_jubilarse()} años\")\n",
        "        else:\n",
        "            print(f\"No se encontró ningún empleado con el apellido {apellido_consulta}\")\n",
        "    elif opcion == 6:\n",
        "        print(\"Ha salido del menú.\")\n",
        "        break\n",
        "    else:\n",
        "        print(\"Opción no válida. Por favor, ingrese un número válido.\")"
      ],
      "metadata": {
        "id": "av4H5utb_7Rk",
        "outputId": "58ced012-4703-4b45-e876-9bac7dd47e8e",
        "colab": {
          "base_uri": "https://localhost:8080/",
          "height": 297
        }
      },
      "execution_count": 2,
      "outputs": [
        {
          "output_type": "error",
          "ename": "NameError",
          "evalue": "ignored",
          "traceback": [
            "\u001b[0;31m---------------------------------------------------------------------------\u001b[0m",
            "\u001b[0;31mNameError\u001b[0m                                 Traceback (most recent call last)",
            "\u001b[0;32m<ipython-input-2-ba14dc23b6bd>\u001b[0m in \u001b[0;36m<cell line: 49>\u001b[0;34m()\u001b[0m\n\u001b[1;32m     47\u001b[0m \u001b[0mempleados\u001b[0m\u001b[0;34m=\u001b[0m\u001b[0;34m[\u001b[0m\u001b[0;34m(\u001b[0m\u001b[0;34m\"Jose\"\u001b[0m\u001b[0;34m,\u001b[0m \u001b[0;34m\"Fernandez\"\u001b[0m\u001b[0;34m,\u001b[0m \u001b[0;34m\"m\"\u001b[0m\u001b[0;34m,\u001b[0m\u001b[0;36m54\u001b[0m\u001b[0;34m,\u001b[0m \u001b[0;36m20\u001b[0m\u001b[0;34m,\u001b[0m \u001b[0;36m120000\u001b[0m\u001b[0;34m)\u001b[0m\u001b[0;34m,\u001b[0m \u001b[0;34m(\u001b[0m\u001b[0;34m\"Maria\"\u001b[0m\u001b[0;34m,\u001b[0m \u001b[0;34m\"Gonzalez\"\u001b[0m\u001b[0;34m,\u001b[0m \u001b[0;34m\"f\"\u001b[0m\u001b[0;34m,\u001b[0m \u001b[0;36m45\u001b[0m\u001b[0;34m,\u001b[0m \u001b[0;36m15\u001b[0m\u001b[0;34m,\u001b[0m \u001b[0;36m130000\u001b[0m\u001b[0;34m)\u001b[0m\u001b[0;34m,\u001b[0m \u001b[0;34m(\u001b[0m\u001b[0;34m\"Pedro\"\u001b[0m\u001b[0;34m,\u001b[0m \u001b[0;34m\"Gutierrez\"\u001b[0m\u001b[0;34m,\u001b[0m \u001b[0;34m\"m\"\u001b[0m\u001b[0;34m,\u001b[0m \u001b[0;36m52\u001b[0m\u001b[0;34m,\u001b[0m \u001b[0;36m25\u001b[0m\u001b[0;34m,\u001b[0m \u001b[0;36m200000\u001b[0m\u001b[0;34m)\u001b[0m\u001b[0;34m,\u001b[0m \u001b[0;34m(\u001b[0m\u001b[0;34m\"Julia\"\u001b[0m\u001b[0;34m,\u001b[0m \u001b[0;34m\"Lopez\"\u001b[0m\u001b[0;34m,\u001b[0m \u001b[0;34m\"f\"\u001b[0m\u001b[0;34m,\u001b[0m \u001b[0;36m30\u001b[0m\u001b[0;34m,\u001b[0m \u001b[0;36m10\u001b[0m\u001b[0;34m,\u001b[0m \u001b[0;36m80000\u001b[0m\u001b[0;34m)\u001b[0m\u001b[0;34m,\u001b[0m \u001b[0;34m(\u001b[0m\u001b[0;34m\"Luis\"\u001b[0m\u001b[0;34m,\u001b[0m \u001b[0;34m\"Martinez\"\u001b[0m\u001b[0;34m,\u001b[0m \u001b[0;34m\"m\"\u001b[0m\u001b[0;34m,\u001b[0m \u001b[0;36m25\u001b[0m\u001b[0;34m,\u001b[0m \u001b[0;36m4\u001b[0m\u001b[0;34m,\u001b[0m \u001b[0;36m120000\u001b[0m\u001b[0;34m)\u001b[0m\u001b[0;34m,\u001b[0m \u001b[0;34m(\u001b[0m\u001b[0;34m\"Sabrina\"\u001b[0m\u001b[0;34m,\u001b[0m \u001b[0;34m\"Alcatraz\"\u001b[0m\u001b[0;34m,\u001b[0m \u001b[0;34m\"f\"\u001b[0m\u001b[0;34m,\u001b[0m \u001b[0;36m30\u001b[0m\u001b[0;34m,\u001b[0m \u001b[0;36m12\u001b[0m\u001b[0;34m,\u001b[0m \u001b[0;36m60000\u001b[0m\u001b[0;34m)\u001b[0m\u001b[0;34m,\u001b[0m \u001b[0;34m(\u001b[0m\u001b[0;34m\"Bruno\"\u001b[0m\u001b[0;34m,\u001b[0m \u001b[0;34m\"Mendez\"\u001b[0m\u001b[0;34m,\u001b[0m \u001b[0;34m\"m\"\u001b[0m\u001b[0;34m,\u001b[0m\u001b[0;36m43\u001b[0m\u001b[0;34m,\u001b[0m \u001b[0;36m10\u001b[0m\u001b[0;34m,\u001b[0m \u001b[0;36m125000\u001b[0m\u001b[0;34m)\u001b[0m\u001b[0;34m]\u001b[0m\u001b[0;34m\u001b[0m\u001b[0;34m\u001b[0m\u001b[0m\n\u001b[1;32m     48\u001b[0m \u001b[0mopcionElegida\u001b[0m\u001b[0;34m=\u001b[0m\u001b[0;34m\"l\"\u001b[0m\u001b[0;34m\u001b[0m\u001b[0;34m\u001b[0m\u001b[0m\n\u001b[0;32m---> 49\u001b[0;31m \u001b[0mdate\u001b[0m \u001b[0;34m=\u001b[0m \u001b[0mdatetime\u001b[0m\u001b[0;34m.\u001b[0m\u001b[0mdate\u001b[0m\u001b[0;34m.\u001b[0m\u001b[0mtoday\u001b[0m\u001b[0;34m(\u001b[0m\u001b[0;34m)\u001b[0m\u001b[0;34m\u001b[0m\u001b[0;34m\u001b[0m\u001b[0m\n\u001b[0m\u001b[1;32m     50\u001b[0m \u001b[0;34m\u001b[0m\u001b[0m\n\u001b[1;32m     51\u001b[0m \u001b[0;31m## Menú del programa / Cuerpo del programa ##\u001b[0m\u001b[0;34m\u001b[0m\u001b[0;34m\u001b[0m\u001b[0m\n",
            "\u001b[0;31mNameError\u001b[0m: name 'datetime' is not defined"
          ]
        }
      ]
    },
    {
      "cell_type": "markdown",
      "source": [
        "**Actividad: Impuesto**\n",
        "\n",
        "\n",
        "En un cierto país el impuesto que se debe pagar por los artículos se calcula mediante la siguiente regla: los primeros $20 no causan impuesto, los siguientes $ 20 tienen el 30% de impuesto y el resto el 40% de impuesto, pero si el costo del producto es mayor a $500, entonces en lugar del 40% se cobra el 50%. Diseñe un diagrama de flujo que lea el costo básico de un artículo y calcule su precio total (precio total = precio básico + impuesto).\n"
      ],
      "metadata": {
        "id": "kDnsNmWI_9X2"
      }
    },
    {
      "cell_type": "code",
      "source": [
        "def calcular_precio_total(costo_basico):\n",
        "    if costo_basico <= 20:\n",
        "        impuesto = 0\n",
        "    elif costo_basico <= 40:\n",
        "        impuesto = 0.3\n",
        "    elif costo_basico <= 500:\n",
        "        impuesto = 0.4\n",
        "    else:\n",
        "        impuesto = 0.5\n",
        "\n",
        "    precio_total = costo_basico + (costo_basico * impuesto)\n",
        "    return precio_total\n",
        "\n",
        "# Pedir al usuario que ingrese el costo básico del artículo\n",
        "costo_basico = float(input(\"Ingrese el costo básico del artículo: \"))\n",
        "\n",
        "# Calcular y mostrar el precio total\n",
        "precio_total = calcular_precio_total(costo_basico)\n",
        "print(f\"El precio total del artículo es: ${precio_total}\")"
      ],
      "metadata": {
        "id": "SJj5k97oADQI"
      },
      "execution_count": null,
      "outputs": []
    },
    {
      "cell_type": "markdown",
      "source": [
        "**Actividad: Ahorcado**\n",
        "\n",
        "Desarrollar un juego donde el usuario debe adivinar una palabra sorteada previamente entre 10 posibles opciones. Para ello, se sabe que el juego termina cuando el usuario descubre la última letra, o bien, se llega al máximo de intentos fallidos, en este caso 6.\n",
        "Un intento fallido se produce cuando el usuario ingresa un carácter que no se encuentra en la palabra. Las letras que aún no han sido descubiertas serán identificadas en pantalla mediante un guión bajo (“_”). A su vez, se indicará la cantidad de intentos fallidos.\n"
      ],
      "metadata": {
        "id": "z-JeJ6EIADvB"
      }
    },
    {
      "cell_type": "code",
      "source": [
        "import random\n",
        "\n",
        "def seleccionar_palabra():\n",
        "    palabras = [\"manzana\", \"programacion\", \"adivinanza\", \"desarrollo\", \"ahorcado\", \"juego\", \"computadora\", \"proyecto\", \"vehiculo\", \"maquina\"]\n",
        "    return random.choice(palabras)\n",
        "\n",
        "def mostrar_palabra_oculta(palabra, letras_descubiertas):\n",
        "    resultado = \"\"\n",
        "    for letra in palabra:\n",
        "        if letra in letras_descubiertas:\n",
        "            resultado += letra\n",
        "        else:\n",
        "            resultado += \"_\"\n",
        "    return resultado\n",
        "\n",
        "def juego_ahorcado():\n",
        "    palabra_secreta = seleccionar_palabra()\n",
        "    letras_descubiertas = set()\n",
        "    intentos_fallidos = 0\n",
        "\n",
        "    print(\"¡Bienvenido al juego del ahorcado!\")\n",
        "    print(mostrar_palabra_oculta(palabra_secreta, letras_descubiertas))\n",
        "\n",
        "    while intentos_fallidos < 6:\n",
        "        letra_usuario = input(\"Ingresa una letra: \").lower()\n",
        "\n",
        "        if letra_usuario in letras_descubiertas:\n",
        "            print(\"Ya has ingresado esa letra. Intenta con otra.\")\n",
        "            continue\n",
        "\n",
        "        if letra_usuario in palabra_secreta:\n",
        "            letras_descubiertas.add(letra_usuario)\n",
        "        else:\n",
        "            intentos_fallidos += 1\n",
        "            print(f\"Letra incorrecta. Intentos fallidos: {intentos_fallidos}\")\n",
        "\n",
        "        palabra_oculta = mostrar_palabra_oculta(palabra_secreta, letras_descubiertas)\n",
        "        print(palabra_oculta)\n",
        "\n",
        "        if \"_\" not in palabra_oculta:\n",
        "            print(\"¡Felicidades! Has adivinado la palabra.\")\n",
        "            break\n",
        "\n",
        "    if intentos_fallidos == 6:\n",
        "        print(f\"Has agotado tus intentos. La palabra era: {palabra_secreta}\")\n",
        "\n",
        "# Iniciar el juego\n",
        "juego_ahorcado()"
      ],
      "metadata": {
        "id": "K0YtlA0RBLD1",
        "colab": {
          "base_uri": "https://localhost:8080/",
          "height": 789
        },
        "outputId": "bde5d439-86ae-4720-94ca-93c483c73cd5"
      },
      "execution_count": 1,
      "outputs": [
        {
          "output_type": "stream",
          "name": "stdout",
          "text": [
            "¡Bienvenido al juego del ahorcado!\n",
            "__________\n",
            "Ingresa una letra: l\n",
            "_______ll_\n",
            "Ingresa una letra: d\n",
            "d______ll_\n",
            "Ingresa una letra: e\n",
            "de_____ll_\n",
            "Ingresa una letra: s\n",
            "des____ll_\n",
            "Ingresa una letra: s\n",
            "Ya has ingresado esa letra. Intenta con otra.\n",
            "Ingresa una letra: f\n",
            "Letra incorrecta. Intentos fallidos: 1\n",
            "des____ll_\n",
            "Ingresa una letra: g\n",
            "Letra incorrecta. Intentos fallidos: 2\n",
            "des____ll_\n",
            "Ingresa una letra: h\n",
            "Letra incorrecta. Intentos fallidos: 3\n",
            "des____ll_\n",
            "Ingresa una letra: m\n",
            "Letra incorrecta. Intentos fallidos: 4\n",
            "des____ll_\n"
          ]
        },
        {
          "output_type": "error",
          "ename": "KeyboardInterrupt",
          "evalue": "ignored",
          "traceback": [
            "\u001b[0;31m---------------------------------------------------------------------------\u001b[0m",
            "\u001b[0;31mKeyboardInterrupt\u001b[0m                         Traceback (most recent call last)",
            "\u001b[0;32m<ipython-input-1-8c019933bedc>\u001b[0m in \u001b[0;36m<cell line: 48>\u001b[0;34m()\u001b[0m\n\u001b[1;32m     46\u001b[0m \u001b[0;34m\u001b[0m\u001b[0m\n\u001b[1;32m     47\u001b[0m \u001b[0;31m# Iniciar el juego\u001b[0m\u001b[0;34m\u001b[0m\u001b[0;34m\u001b[0m\u001b[0m\n\u001b[0;32m---> 48\u001b[0;31m \u001b[0mjuego_ahorcado\u001b[0m\u001b[0;34m(\u001b[0m\u001b[0;34m)\u001b[0m\u001b[0;34m\u001b[0m\u001b[0;34m\u001b[0m\u001b[0m\n\u001b[0m",
            "\u001b[0;32m<ipython-input-1-8c019933bedc>\u001b[0m in \u001b[0;36mjuego_ahorcado\u001b[0;34m()\u001b[0m\n\u001b[1;32m     23\u001b[0m \u001b[0;34m\u001b[0m\u001b[0m\n\u001b[1;32m     24\u001b[0m     \u001b[0;32mwhile\u001b[0m \u001b[0mintentos_fallidos\u001b[0m \u001b[0;34m<\u001b[0m \u001b[0;36m6\u001b[0m\u001b[0;34m:\u001b[0m\u001b[0;34m\u001b[0m\u001b[0;34m\u001b[0m\u001b[0m\n\u001b[0;32m---> 25\u001b[0;31m         \u001b[0mletra_usuario\u001b[0m \u001b[0;34m=\u001b[0m \u001b[0minput\u001b[0m\u001b[0;34m(\u001b[0m\u001b[0;34m\"Ingresa una letra: \"\u001b[0m\u001b[0;34m)\u001b[0m\u001b[0;34m.\u001b[0m\u001b[0mlower\u001b[0m\u001b[0;34m(\u001b[0m\u001b[0;34m)\u001b[0m\u001b[0;34m\u001b[0m\u001b[0;34m\u001b[0m\u001b[0m\n\u001b[0m\u001b[1;32m     26\u001b[0m \u001b[0;34m\u001b[0m\u001b[0m\n\u001b[1;32m     27\u001b[0m         \u001b[0;32mif\u001b[0m \u001b[0mletra_usuario\u001b[0m \u001b[0;32min\u001b[0m \u001b[0mletras_descubiertas\u001b[0m\u001b[0;34m:\u001b[0m\u001b[0;34m\u001b[0m\u001b[0;34m\u001b[0m\u001b[0m\n",
            "\u001b[0;32m/usr/local/lib/python3.10/dist-packages/ipykernel/kernelbase.py\u001b[0m in \u001b[0;36mraw_input\u001b[0;34m(self, prompt)\u001b[0m\n\u001b[1;32m    849\u001b[0m                 \u001b[0;34m\"raw_input was called, but this frontend does not support input requests.\"\u001b[0m\u001b[0;34m\u001b[0m\u001b[0;34m\u001b[0m\u001b[0m\n\u001b[1;32m    850\u001b[0m             )\n\u001b[0;32m--> 851\u001b[0;31m         return self._input_request(str(prompt),\n\u001b[0m\u001b[1;32m    852\u001b[0m             \u001b[0mself\u001b[0m\u001b[0;34m.\u001b[0m\u001b[0m_parent_ident\u001b[0m\u001b[0;34m,\u001b[0m\u001b[0;34m\u001b[0m\u001b[0;34m\u001b[0m\u001b[0m\n\u001b[1;32m    853\u001b[0m             \u001b[0mself\u001b[0m\u001b[0;34m.\u001b[0m\u001b[0m_parent_header\u001b[0m\u001b[0;34m,\u001b[0m\u001b[0;34m\u001b[0m\u001b[0;34m\u001b[0m\u001b[0m\n",
            "\u001b[0;32m/usr/local/lib/python3.10/dist-packages/ipykernel/kernelbase.py\u001b[0m in \u001b[0;36m_input_request\u001b[0;34m(self, prompt, ident, parent, password)\u001b[0m\n\u001b[1;32m    893\u001b[0m             \u001b[0;32mexcept\u001b[0m \u001b[0mKeyboardInterrupt\u001b[0m\u001b[0;34m:\u001b[0m\u001b[0;34m\u001b[0m\u001b[0;34m\u001b[0m\u001b[0m\n\u001b[1;32m    894\u001b[0m                 \u001b[0;31m# re-raise KeyboardInterrupt, to truncate traceback\u001b[0m\u001b[0;34m\u001b[0m\u001b[0;34m\u001b[0m\u001b[0m\n\u001b[0;32m--> 895\u001b[0;31m                 \u001b[0;32mraise\u001b[0m \u001b[0mKeyboardInterrupt\u001b[0m\u001b[0;34m(\u001b[0m\u001b[0;34m\"Interrupted by user\"\u001b[0m\u001b[0;34m)\u001b[0m \u001b[0;32mfrom\u001b[0m \u001b[0;32mNone\u001b[0m\u001b[0;34m\u001b[0m\u001b[0;34m\u001b[0m\u001b[0m\n\u001b[0m\u001b[1;32m    896\u001b[0m             \u001b[0;32mexcept\u001b[0m \u001b[0mException\u001b[0m \u001b[0;32mas\u001b[0m \u001b[0me\u001b[0m\u001b[0;34m:\u001b[0m\u001b[0;34m\u001b[0m\u001b[0;34m\u001b[0m\u001b[0m\n\u001b[1;32m    897\u001b[0m                 \u001b[0mself\u001b[0m\u001b[0;34m.\u001b[0m\u001b[0mlog\u001b[0m\u001b[0;34m.\u001b[0m\u001b[0mwarning\u001b[0m\u001b[0;34m(\u001b[0m\u001b[0;34m\"Invalid Message:\"\u001b[0m\u001b[0;34m,\u001b[0m \u001b[0mexc_info\u001b[0m\u001b[0;34m=\u001b[0m\u001b[0;32mTrue\u001b[0m\u001b[0;34m)\u001b[0m\u001b[0;34m\u001b[0m\u001b[0;34m\u001b[0m\u001b[0m\n",
            "\u001b[0;31mKeyboardInterrupt\u001b[0m: Interrupted by user"
          ]
        }
      ]
    }
  ]
}