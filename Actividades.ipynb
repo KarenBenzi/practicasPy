{
  "nbformat": 4,
  "nbformat_minor": 0,
  "metadata": {
    "colab": {
      "provenance": []
    },
    "kernelspec": {
      "name": "python3",
      "display_name": "Python 3"
    },
    "language_info": {
      "name": "python"
    }
  },
  "cells": [
    {
      "cell_type": "markdown",
      "source": [
        "**Actividad: Empresa**\n",
        "\n",
        "El empleado tiene un nombre, un apellido, un género (masculino o femenino) y la edad. Además, tiene una cantidad de años trabajados en la empresa   y un salario básico asignado.\n",
        "Desde el programa se debe poder realizar las siguientes operaciones y se debe poner acceder a las mismas mediante un mismo menú de opciones.\n",
        "\n",
        "*   calcular la cantidad de empleados\n",
        "*   calcular la cantidad de empleados por género\n",
        "*   calcular la cantidad de años que le falta a cada empleado para jubilarse (convención: se jubilan a los 60 años ambos géneros).\n",
        "*   (4) calcular el monto que paga en concepto de sueldos la empresa, teniendo en cuenta a todos los empleados.\n",
        "*   (5) permitir la consulta por empleado, ingresando el apellido, en pantalla debe mostrar los datos personales mencionados en el enunciado, sueldo, en qué año calendario se jubilará.\n"
      ],
      "metadata": {
        "id": "cGhwWvoR_1J9"
      }
    },
    {
      "cell_type": "code",
      "source": [
        "class Empleado:\n",
        "    def __init__(self, nombre, apellido, genero, edad, anos_trabajados, salario_basico):\n",
        "        self.nombre = nombre\n",
        "        self.apellido = apellido\n",
        "        self.genero = genero\n",
        "        self.edad = edad\n",
        "        self.anos_trabajados = anos_trabajados\n",
        "        self.salario_basico = salario_basico\n",
        "\n",
        "    def anios_para_jubilarse(self):\n",
        "        jubilacion_edad = 60\n",
        "        return jubilacion_edad - self.edad\n",
        "\n",
        "    def calcular_sueldo_total(self):\n",
        "        return self.salario_basico\n",
        "\n",
        "# Lista para almacenar empleados\n",
        "empleados = []\n",
        "\n",
        "def calcular_cantidad_empleados():\n",
        "    return len(empleados)\n",
        "\n",
        "def calcular_cantidad_empleados_por_genero(genero):\n",
        "    return sum(1 for empleado in empleados if empleado.genero == genero)\n",
        "\n",
        "def calcular_monto_total_sueldos():\n",
        "    return sum(empleado.calcular_sueldo_total() for empleado in empleados)\n",
        "\n",
        "def consulta_por_apellido(apellido):\n",
        "    for empleado in empleados:\n",
        "        if empleado.apellido == apellido:\n",
        "            return empleado\n",
        "    return None\n",
        "\n",
        "# Menú principal\n",
        "while True:\n",
        "    print(\"\\nMenú de opciones:\")\n",
        "    print(\"1. Calcular cantidad de empleados\")\n",
        "    print(\"2. Calcular cantidad de empleados por género\")\n",
        "    print(\"3. Calcular años para jubilarse de cada empleado\")\n",
        "    print(\"4. Calcular monto total de sueldos de la empresa\")\n",
        "    print(\"5. Consulta por empleado\")\n",
        "    print(\"6. Salir\")\n",
        "\n",
        "    opcion = int(input(\"Ingrese el número de la opción deseada: \"))\n",
        "\n",
        "    if opcion == 1:\n",
        "        print(f\"Cantidad de empleados: {calcular_cantidad_empleados()}\")\n",
        "    elif opcion == 2:\n",
        "        genero = input(\"Ingrese el género (masculino/femenino): \").lower()\n",
        "        print(f\"Cantidad de empleados {genero}: {calcular_cantidad_empleados_por_genero(genero)}\")\n",
        "    elif opcion == 3:\n",
        "        for empleado in empleados:\n",
        "            anios_para_jubilarse = empleado.anios_para_jubilarse()\n",
        "            print(f\"{empleado.nombre} {empleado.apellido}: {anios_para_jubilarse} años para jubilarse\")\n",
        "    elif opcion == 4:\n",
        "        print(f\"Monto total de sueldos de la empresa: ${calcular_monto_total_sueldos()}\")\n",
        "    elif opcion == 5:\n",
        "        apellido_consulta = input(\"Ingrese el apellido del empleado: \")\n",
        "        empleado_consulta = consulta_por_apellido(apellido_consulta)\n",
        "        if empleado_consulta:\n",
        "            print(f\"Datos del empleado:\")\n",
        "            print(f\"Nombre: {empleado_consulta.nombre}\")\n",
        "            print(f\"Apellido: {empleado_consulta.apellido}\")\n",
        "            print(f\"Género: {empleado_consulta.genero}\")\n",
        "            print(f\"Edad: {empleado_consulta.edad} años\")\n",
        "            print(f\"Años trabajados: {empleado_consulta.anos_trabajados}\")\n",
        "            print(f\"Salario básico: ${empleado_consulta.salario_basico}\")\n",
        "            print(f\"Años para jubilarse: {empleado_consulta.anios_para_jubilarse()} años\")\n",
        "        else:\n",
        "            print(f\"No se encontró ningún empleado con el apellido {apellido_consulta}\")\n",
        "    elif opcion == 6:\n",
        "        print(\"Ha salido del menú.\")\n",
        "        break\n",
        "    else:\n",
        "        print(\"Opción no válida. Por favor, ingrese un número válido.\")"
      ],
      "metadata": {
        "id": "av4H5utb_7Rk"
      },
      "execution_count": null,
      "outputs": []
    },
    {
      "cell_type": "markdown",
      "source": [
        "**Actividad: Impuesto**\n",
        "\n",
        "\n",
        "En un cierto país el impuesto que se debe pagar por los artículos se calcula mediante la siguiente regla: los primeros $20 no causan impuesto, los siguientes $ 20 tienen el 30% de impuesto y el resto el 40% de impuesto, pero si el costo del producto es mayor a $500, entonces en lugar del 40% se cobra el 50%. Diseñe un diagrama de flujo que lea el costo básico de un artículo y calcule su precio total (precio total = precio básico + impuesto).\n"
      ],
      "metadata": {
        "id": "kDnsNmWI_9X2"
      }
    },
    {
      "cell_type": "code",
      "source": [
        "def calcular_precio_total(costo_basico):\n",
        "    if costo_basico <= 20:\n",
        "        impuesto = 0\n",
        "    elif costo_basico <= 40:\n",
        "        impuesto = 0.3\n",
        "    elif costo_basico <= 500:\n",
        "        impuesto = 0.4\n",
        "    else:\n",
        "        impuesto = 0.5\n",
        "\n",
        "    precio_total = costo_basico + (costo_basico * impuesto)\n",
        "    return precio_total\n",
        "\n",
        "# Pedir al usuario que ingrese el costo básico del artículo\n",
        "costo_basico = float(input(\"Ingrese el costo básico del artículo: \"))\n",
        "\n",
        "# Calcular y mostrar el precio total\n",
        "precio_total = calcular_precio_total(costo_basico)\n",
        "print(f\"El precio total del artículo es: ${precio_total}\")"
      ],
      "metadata": {
        "id": "SJj5k97oADQI"
      },
      "execution_count": null,
      "outputs": []
    },
    {
      "cell_type": "markdown",
      "source": [
        "**Actividad: Ahorcado**\n",
        "\n",
        "Desarrollar un juego donde el usuario debe adivinar una palabra sorteada previamente entre 10 posibles opciones. Para ello, se sabe que el juego termina cuando el usuario descubre la última letra, o bien, se llega al máximo de intentos fallidos, en este caso 6.\n",
        "Un intento fallido se produce cuando el usuario ingresa un carácter que no se encuentra en la palabra. Las letras que aún no han sido descubiertas serán identificadas en pantalla mediante un guión bajo (“_”). A su vez, se indicará la cantidad de intentos fallidos.\n"
      ],
      "metadata": {
        "id": "z-JeJ6EIADvB"
      }
    },
    {
      "cell_type": "code",
      "source": [
        "import random\n",
        "\n",
        "def seleccionar_palabra():\n",
        "    palabras = [\"manzana\", \"programacion\", \"adivinanza\", \"desarrollo\", \"ahorcado\", \"juego\", \"computadora\", \"proyecto\", \"vehiculo\", \"maquina\"]\n",
        "    return random.choice(palabras)\n",
        "\n",
        "def mostrar_palabra_oculta(palabra, letras_descubiertas):\n",
        "    resultado = \"\"\n",
        "    for letra in palabra:\n",
        "        if letra in letras_descubiertas:\n",
        "            resultado += letra\n",
        "        else:\n",
        "            resultado += \"_\"\n",
        "    return resultado\n",
        "\n",
        "def juego_ahorcado():\n",
        "    palabra_secreta = seleccionar_palabra()\n",
        "    letras_descubiertas = set()\n",
        "    intentos_fallidos = 0\n",
        "\n",
        "    print(\"¡Bienvenido al juego del ahorcado!\")\n",
        "    print(mostrar_palabra_oculta(palabra_secreta, letras_descubiertas))\n",
        "\n",
        "    while intentos_fallidos < 6:\n",
        "        letra_usuario = input(\"Ingresa una letra: \").lower()\n",
        "\n",
        "        if letra_usuario in letras_descubiertas:\n",
        "            print(\"Ya has ingresado esa letra. Intenta con otra.\")\n",
        "            continue\n",
        "\n",
        "        if letra_usuario in palabra_secreta:\n",
        "            letras_descubiertas.add(letra_usuario)\n",
        "        else:\n",
        "            intentos_fallidos += 1\n",
        "            print(f\"Letra incorrecta. Intentos fallidos: {intentos_fallidos}\")\n",
        "\n",
        "        palabra_oculta = mostrar_palabra_oculta(palabra_secreta, letras_descubiertas)\n",
        "        print(palabra_oculta)\n",
        "\n",
        "        if \"_\" not in palabra_oculta:\n",
        "            print(\"¡Felicidades! Has adivinado la palabra.\")\n",
        "            break\n",
        "\n",
        "    if intentos_fallidos == 6:\n",
        "        print(f\"Has agotado tus intentos. La palabra era: {palabra_secreta}\")\n",
        "\n",
        "# Iniciar el juego\n",
        "juego_ahorcado()"
      ],
      "metadata": {
        "id": "K0YtlA0RBLD1"
      },
      "execution_count": null,
      "outputs": []
    }
  ]
}